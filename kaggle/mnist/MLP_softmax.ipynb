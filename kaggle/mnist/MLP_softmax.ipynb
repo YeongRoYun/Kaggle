{
 "cells": [
  {
   "cell_type": "code",
   "execution_count": 1,
   "metadata": {},
   "outputs": [],
   "source": [
    "import pandas as pd\n",
    "import numpy as np\n",
    "import tensorflow as tf\n",
    "import matplotlib.pyplot as plt\n",
    "from sklearn.model_selection import train_test_split\n",
    "%matplotlib inline"
   ]
  },
  {
   "cell_type": "markdown",
   "metadata": {},
   "source": [
    "**Data 불러오기**"
   ]
  },
  {
   "cell_type": "code",
   "execution_count": 2,
   "metadata": {},
   "outputs": [],
   "source": [
    "train_df = pd.read_csv(r\"data\\train.csv\")\n",
    "test_df = pd.read_csv(r\"data\\test.csv\")"
   ]
  },
  {
   "cell_type": "markdown",
   "metadata": {},
   "source": [
    "**0~1로 normalize 하기**"
   ]
  },
  {
   "cell_type": "code",
   "execution_count": 3,
   "metadata": {},
   "outputs": [],
   "source": [
    "def normalize(df):\n",
    "    df.iloc[:,1:] = (df.iloc[:,1:]-df.iloc[:,1:].min())/(df.iloc[:,1:].max() - df.iloc[:,1:].min() + 1.0e-9)\n",
    "    return df\n",
    "train_df = normalize(train_df)\n",
    "test_df = normalize(test_df)"
   ]
  },
  {
   "cell_type": "markdown",
   "metadata": {},
   "source": [
    "**train을 train과 validation으로 분리**"
   ]
  },
  {
   "cell_type": "code",
   "execution_count": 4,
   "metadata": {},
   "outputs": [],
   "source": [
    "x_train, x_validation, y_train, y_validation = train_test_split(train_df.iloc[:,1:].to_numpy(), train_df.iloc[:,0].to_numpy(),test_size = 0.2, random_state = 10)\n",
    "x_test = test_df.to_numpy()"
   ]
  },
  {
   "cell_type": "markdown",
   "metadata": {},
   "source": [
    "**y를 one hot encoding 하기**"
   ]
  },
  {
   "cell_type": "code",
   "execution_count": 5,
   "metadata": {},
   "outputs": [],
   "source": [
    "def one_hot_encoding(label, size):\n",
    "    if len(label.shape) >= 2:\n",
    "        return label\n",
    "    else:\n",
    "        y = np.zeros(shape = (len(label), size), dtype = int)\n",
    "        for i,key in enumerate(label):\n",
    "            y[i,key] = 1\n",
    "    return y"
   ]
  },
  {
   "cell_type": "code",
   "execution_count": 6,
   "metadata": {},
   "outputs": [],
   "source": [
    "size = 10\n",
    "y_train = one_hot_encoding(y_train, size)\n",
    "y_validation = one_hot_encoding(y_validation, size)"
   ]
  },
  {
   "cell_type": "markdown",
   "metadata": {},
   "source": [
    "**Network 구성**\n",
    "- shape = (row, col)\n",
    "- Dimension : 0(col 수 만큼 output을 뽑는다), 1(row 수만큼 output을 뽑는다.)\n",
    "- axis : 0(col 수 만큼 output을 뽑는다), 1(row 수만큼 output을 뽑는다.)"
   ]
  },
  {
   "cell_type": "code",
   "execution_count": 11,
   "metadata": {},
   "outputs": [],
   "source": [
    "ninputs = 784\n",
    "noutputs = 10\n",
    "\n",
    "X = tf.placeholder(shape = [None, ninputs], dtype = tf.float32, name = \"input\")\n",
    "Y = tf.placeholder(shape = [None, noutputs], dtype = tf.float32, name = \"output\")\n",
    "\n",
    "W0 = tf.Variable(tf.random_normal(shape = [ninputs, ninputs], dtype = tf.float32), name = \"weight1\")\n",
    "W1 = tf.Variable(tf.random_normal(shape = [ninputs, noutputs], dtype = tf.float32), name = \"weight2\")\n",
    "\n",
    "b0 = tf.Variable(tf.random_normal(shape = [ninputs], dtype = tf.float32), name = \"bias1\")\n",
    "b1 = tf.Variable(tf.random_normal(shape = [noutputs], dtype = tf.float32), name = \"bias2\")\n",
    "\n",
    "\n",
    "H0 = tf.sigmoid(tf.matmul(X,W0)+b0, name = \"layer1\")\n",
    "H1 = tf.sigmoid(tf.matmul(H0, W1)+b1, name = \"layer2\")\n",
    "\n",
    "#softmax\n",
    "softmax = tf.nn.softmax(H1, name = \"softmax\")\n",
    "\n",
    "#loss\n",
    "loss = tf.reduce_mean(tf.nn.softmax_cross_entropy_with_logits_v2(labels = Y, logits = H1))\n",
    "optimizer = tf.train.AdamOptimizer()\n",
    "train = optimizer.minimize(loss)"
   ]
  },
  {
   "cell_type": "markdown",
   "metadata": {},
   "source": [
    "**Accuracy, Predict 만들기**\n",
    "- 자리 확인이 제일 햇갈린다.!!"
   ]
  },
  {
   "cell_type": "code",
   "execution_count": 12,
   "metadata": {},
   "outputs": [],
   "source": [
    "predict = tf.arg_max(softmax, 1)\n",
    "correct = tf.equal(x = predict, y = tf.arg_max(Y, 1)) #1d-array의 maximum 값의 자릿수\n",
    "accuracy = tf.reduce_mean(tf.cast(correct, dtype = tf.float32))"
   ]
  },
  {
   "cell_type": "markdown",
   "metadata": {},
   "source": [
    "**Network 동작**"
   ]
  },
  {
   "cell_type": "code",
   "execution_count": 13,
   "metadata": {},
   "outputs": [
    {
     "name": "stdout",
     "output_type": "stream",
     "text": [
      "[30/300] cost : 2.009464740753174, train acc = 0.3209821283817291, validation acc = 0.32273808121681213\n",
      "[8]\n",
      "[60/300] cost : 1.808597445487976, train acc = 0.5022321343421936, validation acc = 0.5082142949104309\n",
      "[8]\n",
      "[90/300] cost : 1.6634409427642822, train acc = 0.7534226179122925, validation acc = 0.7448809742927551\n",
      "[8]\n",
      "[120/300] cost : 1.6020463705062866, train acc = 0.8442559242248535, validation acc = 0.833809494972229\n",
      "[4]\n",
      "[150/300] cost : 1.5717724561691284, train acc = 0.878720223903656, validation acc = 0.8653571605682373\n",
      "[4]\n",
      "[180/300] cost : 1.5542831420898438, train acc = 0.8958035707473755, validation acc = 0.8791666626930237\n",
      "[4]\n",
      "[210/300] cost : 1.5428662300109863, train acc = 0.9064881205558777, validation acc = 0.8879761695861816\n",
      "[4]\n",
      "[240/300] cost : 1.535017728805542, train acc = 0.9141964316368103, validation acc = 0.8965476155281067\n",
      "[4]\n",
      "[270/300] cost : 1.529249668121338, train acc = 0.9198511838912964, validation acc = 0.9010714292526245\n",
      "[4]\n",
      "[300/300] cost : 1.5248223543167114, train acc = 0.924047589302063, validation acc = 0.9051190614700317\n",
      "[4]\n"
     ]
    }
   ],
   "source": [
    "cost_list = []\n",
    "Acc_train_list = []\n",
    "Acc_validation_list = []\n",
    "epoch = 300\n",
    "step = 30\n",
    "list_size = 10\n",
    "\n",
    "sess = tf.Session()\n",
    "    \n",
    "sess.run(tf.global_variables_initializer())\n",
    "        \n",
    "for i in range(1,epoch+1):\n",
    "    _, cost, acc_train = sess.run([train, loss, accuracy], feed_dict = {X:x_train, Y:y_train})\n",
    "    acc_validation = sess.run(accuracy, feed_dict = {X:x_validation, Y:y_validation})\n",
    "    \n",
    "    if i%step == 0:\n",
    "        print(\"[{}/300] cost : {}, train acc = {}, validation acc = {}\".format(i, cost, acc_train, acc_validation))\n",
    "        print(sess.run(predict, feed_dict = {X:x_train[0].reshape((1,784))}))\n",
    "        cost_list.append(cost)\n",
    "        Acc_train_list.append(acc_train)\n",
    "        Acc_validation_list.append(acc_validation)"
   ]
  },
  {
   "cell_type": "code",
   "execution_count": 31,
   "metadata": {},
   "outputs": [
    {
     "data": {
      "image/png": "[encoded data removed]",
      "text/plain": [
       "<Figure size 864x432 with 3 Axes>"
      ]
     },
     "metadata": {
      "needs_background": "light"
     },
     "output_type": "display_data"
    }
   ],
   "source": [
    "fig = plt.figure(figsize =(12,6))\n",
    "\n",
    "ax1 = fig.add_subplot(1,3,1)\n",
    "ax1.plot(cost_list, color = 'red' ,marker = 'o', label = 'cost')\n",
    "plt.title('Cost')\n",
    "plt.legend(fontsize=  12)\n",
    "\n",
    "ax2 = fig.add_subplot(1,3,2)\n",
    "ax2.plot(Acc_train_list, color = 'blue', marker = 'o', label = 'accuracy')\n",
    "plt.title('Accurancy(Train)')\n",
    "plt.legend(fontsize= 12)\n",
    "\n",
    "ax3 = fig.add_subplot(1,3,3)\n",
    "ax3.plot(Acc_validation_list, color = 'green', marker = 'o', label = 'accuracy')\n",
    "plt.title('Accurancy(Validation)')\n",
    "plt.legend(fontsize = 12)\n",
    "\n",
    "plt.show()"
   ]
  },
  {
   "cell_type": "markdown",
   "metadata": {},
   "source": [
    "**test data 예측**"
   ]
  },
  {
   "cell_type": "code",
   "execution_count": 47,
   "metadata": {},
   "outputs": [],
   "source": [
    "test_pred =  sess.run(predict, feed_dict = {X:x_test})\n",
    "\n",
    "summit  = pd.read_csv(r'data\\sample_submission.csv')\n",
    "summit['Label'] = test_pred\n",
    "summit.to_csv(r'data\\summit.csv', index = False)"
   ]
  }
 ],
 "metadata": {
  "kernelspec": {
   "display_name": "Python 3",
   "language": "python",
   "name": "python3"
  },
  "language_info": {
   "codemirror_mode": {
    "name": "ipython",
    "version": 3
   },
   "file_extension": ".py",
   "mimetype": "text/x-python",
   "name": "python",
   "nbconvert_exporter": "python",
   "pygments_lexer": "ipython3",
   "version": "3.7.6"
  }
 },
 "nbformat": 4,
 "nbformat_minor": 4
}
