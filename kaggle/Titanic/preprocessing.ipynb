{
 "cells": [
  {
   "cell_type": "code",
   "execution_count": 3,
   "metadata": {},
   "outputs": [],
   "source": [
    "import pandas as pd\n",
    "import matplotlib.pyplot as plt\n",
    "import seaborn as sns\n",
    "import numpy as np\n",
    "%matplotlib inline"
   ]
  },
  {
   "cell_type": "markdown",
   "metadata": {},
   "source": [
    "# 데이터 셋 불러오기"
   ]
  },
  {
   "cell_type": "code",
   "execution_count": 105,
   "metadata": {},
   "outputs": [],
   "source": [
    "df = pd.read_csv(r'titanic\\train.csv')"
   ]
  },
  {
   "cell_type": "markdown",
   "metadata": {},
   "source": [
    "# 요약 정보 확인"
   ]
  },
  {
   "cell_type": "code",
   "execution_count": 106,
   "metadata": {},
   "outputs": [
    {
     "name": "stdout",
     "output_type": "stream",
     "text": [
      "<class 'pandas.core.frame.DataFrame'>\n",
      "RangeIndex: 891 entries, 0 to 890\n",
      "Data columns (total 12 columns):\n",
      "PassengerId    891 non-null int64\n",
      "Survived       891 non-null int64\n",
      "Pclass         891 non-null int64\n",
      "Name           891 non-null object\n",
      "Sex            891 non-null object\n",
      "Age            714 non-null float64\n",
      "SibSp          891 non-null int64\n",
      "Parch          891 non-null int64\n",
      "Ticket         891 non-null object\n",
      "Fare           891 non-null float64\n",
      "Cabin          204 non-null object\n",
      "Embarked       889 non-null object\n",
      "dtypes: float64(2), int64(5), object(5)\n",
      "memory usage: 83.7+ KB\n"
     ]
    }
   ],
   "source": [
    "df.info()\n",
    "#categorical data가 많다 --> age, Fare 만 continuous data --> categorical로 맞춰주자."
   ]
  },
  {
   "cell_type": "markdown",
   "metadata": {},
   "source": [
    "# 결측치 1차 확인"
   ]
  },
  {
   "cell_type": "code",
   "execution_count": 107,
   "metadata": {},
   "outputs": [
    {
     "name": "stdout",
     "output_type": "stream",
     "text": [
      "PassengerId      0\n",
      "Survived         0\n",
      "Pclass           0\n",
      "Name             0\n",
      "Sex              0\n",
      "Age            177\n",
      "SibSp            0\n",
      "Parch            0\n",
      "Ticket           0\n",
      "Fare             0\n",
      "Cabin          687\n",
      "Embarked         2\n",
      "dtype: int64\n"
     ]
    }
   ],
   "source": [
    "print(df.isnull().sum()) #Age, Cabin, Embarked"
   ]
  },
  {
   "cell_type": "markdown",
   "metadata": {},
   "source": [
    "# 데이터 확인"
   ]
  },
  {
   "cell_type": "code",
   "execution_count": 108,
   "metadata": {},
   "outputs": [
    {
     "data": {
      "text/html": [
       "<div>\n",
       "<style scoped>\n",
       "    .dataframe tbody tr th:only-of-type {\n",
       "        vertical-align: middle;\n",
       "    }\n",
       "\n",
       "    .dataframe tbody tr th {\n",
       "        vertical-align: top;\n",
       "    }\n",
       "\n",
       "    .dataframe thead th {\n",
       "        text-align: right;\n",
       "    }\n",
       "</style>\n",
       "<table border=\"1\" class=\"dataframe\">\n",
       "  <thead>\n",
       "    <tr style=\"text-align: right;\">\n",
       "      <th></th>\n",
       "      <th>PassengerId</th>\n",
       "      <th>Survived</th>\n",
       "      <th>Pclass</th>\n",
       "      <th>Name</th>\n",
       "      <th>Sex</th>\n",
       "      <th>Age</th>\n",
       "      <th>SibSp</th>\n",
       "      <th>Parch</th>\n",
       "      <th>Ticket</th>\n",
       "      <th>Fare</th>\n",
       "      <th>Cabin</th>\n",
       "      <th>Embarked</th>\n",
       "    </tr>\n",
       "  </thead>\n",
       "  <tbody>\n",
       "    <tr>\n",
       "      <th>0</th>\n",
       "      <td>1</td>\n",
       "      <td>0</td>\n",
       "      <td>3</td>\n",
       "      <td>Braund, Mr. Owen Harris</td>\n",
       "      <td>male</td>\n",
       "      <td>22.0</td>\n",
       "      <td>1</td>\n",
       "      <td>0</td>\n",
       "      <td>A/5 21171</td>\n",
       "      <td>7.2500</td>\n",
       "      <td>NaN</td>\n",
       "      <td>S</td>\n",
       "    </tr>\n",
       "    <tr>\n",
       "      <th>1</th>\n",
       "      <td>2</td>\n",
       "      <td>1</td>\n",
       "      <td>1</td>\n",
       "      <td>Cumings, Mrs. John Bradley (Florence Briggs Th...</td>\n",
       "      <td>female</td>\n",
       "      <td>38.0</td>\n",
       "      <td>1</td>\n",
       "      <td>0</td>\n",
       "      <td>PC 17599</td>\n",
       "      <td>71.2833</td>\n",
       "      <td>C85</td>\n",
       "      <td>C</td>\n",
       "    </tr>\n",
       "    <tr>\n",
       "      <th>2</th>\n",
       "      <td>3</td>\n",
       "      <td>1</td>\n",
       "      <td>3</td>\n",
       "      <td>Heikkinen, Miss. Laina</td>\n",
       "      <td>female</td>\n",
       "      <td>26.0</td>\n",
       "      <td>0</td>\n",
       "      <td>0</td>\n",
       "      <td>STON/O2. 3101282</td>\n",
       "      <td>7.9250</td>\n",
       "      <td>NaN</td>\n",
       "      <td>S</td>\n",
       "    </tr>\n",
       "    <tr>\n",
       "      <th>3</th>\n",
       "      <td>4</td>\n",
       "      <td>1</td>\n",
       "      <td>1</td>\n",
       "      <td>Futrelle, Mrs. Jacques Heath (Lily May Peel)</td>\n",
       "      <td>female</td>\n",
       "      <td>35.0</td>\n",
       "      <td>1</td>\n",
       "      <td>0</td>\n",
       "      <td>113803</td>\n",
       "      <td>53.1000</td>\n",
       "      <td>C123</td>\n",
       "      <td>S</td>\n",
       "    </tr>\n",
       "    <tr>\n",
       "      <th>4</th>\n",
       "      <td>5</td>\n",
       "      <td>0</td>\n",
       "      <td>3</td>\n",
       "      <td>Allen, Mr. William Henry</td>\n",
       "      <td>male</td>\n",
       "      <td>35.0</td>\n",
       "      <td>0</td>\n",
       "      <td>0</td>\n",
       "      <td>373450</td>\n",
       "      <td>8.0500</td>\n",
       "      <td>NaN</td>\n",
       "      <td>S</td>\n",
       "    </tr>\n",
       "  </tbody>\n",
       "</table>\n",
       "</div>"
      ],
      "text/plain": [
       "   PassengerId  Survived  Pclass  \\\n",
       "0            1         0       3   \n",
       "1            2         1       1   \n",
       "2            3         1       3   \n",
       "3            4         1       1   \n",
       "4            5         0       3   \n",
       "\n",
       "                                                Name     Sex   Age  SibSp  \\\n",
       "0                            Braund, Mr. Owen Harris    male  22.0      1   \n",
       "1  Cumings, Mrs. John Bradley (Florence Briggs Th...  female  38.0      1   \n",
       "2                             Heikkinen, Miss. Laina  female  26.0      0   \n",
       "3       Futrelle, Mrs. Jacques Heath (Lily May Peel)  female  35.0      1   \n",
       "4                           Allen, Mr. William Henry    male  35.0      0   \n",
       "\n",
       "   Parch            Ticket     Fare Cabin Embarked  \n",
       "0      0         A/5 21171   7.2500   NaN        S  \n",
       "1      0          PC 17599  71.2833   C85        C  \n",
       "2      0  STON/O2. 3101282   7.9250   NaN        S  \n",
       "3      0            113803  53.1000  C123        S  \n",
       "4      0            373450   8.0500   NaN        S  "
      ]
     },
     "execution_count": 108,
     "metadata": {},
     "output_type": "execute_result"
    }
   ],
   "source": [
    "df.head()"
   ]
  },
  {
   "cell_type": "code",
   "execution_count": 109,
   "metadata": {},
   "outputs": [
    {
     "data": {
      "text/html": [
       "<div>\n",
       "<style scoped>\n",
       "    .dataframe tbody tr th:only-of-type {\n",
       "        vertical-align: middle;\n",
       "    }\n",
       "\n",
       "    .dataframe tbody tr th {\n",
       "        vertical-align: top;\n",
       "    }\n",
       "\n",
       "    .dataframe thead th {\n",
       "        text-align: right;\n",
       "    }\n",
       "</style>\n",
       "<table border=\"1\" class=\"dataframe\">\n",
       "  <thead>\n",
       "    <tr style=\"text-align: right;\">\n",
       "      <th></th>\n",
       "      <th>PassengerId</th>\n",
       "      <th>Survived</th>\n",
       "      <th>Pclass</th>\n",
       "      <th>Name</th>\n",
       "      <th>Sex</th>\n",
       "      <th>Age</th>\n",
       "      <th>SibSp</th>\n",
       "      <th>Parch</th>\n",
       "      <th>Ticket</th>\n",
       "      <th>Fare</th>\n",
       "      <th>Cabin</th>\n",
       "      <th>Embarked</th>\n",
       "    </tr>\n",
       "  </thead>\n",
       "  <tbody>\n",
       "    <tr>\n",
       "      <th>886</th>\n",
       "      <td>887</td>\n",
       "      <td>0</td>\n",
       "      <td>2</td>\n",
       "      <td>Montvila, Rev. Juozas</td>\n",
       "      <td>male</td>\n",
       "      <td>27.0</td>\n",
       "      <td>0</td>\n",
       "      <td>0</td>\n",
       "      <td>211536</td>\n",
       "      <td>13.00</td>\n",
       "      <td>NaN</td>\n",
       "      <td>S</td>\n",
       "    </tr>\n",
       "    <tr>\n",
       "      <th>887</th>\n",
       "      <td>888</td>\n",
       "      <td>1</td>\n",
       "      <td>1</td>\n",
       "      <td>Graham, Miss. Margaret Edith</td>\n",
       "      <td>female</td>\n",
       "      <td>19.0</td>\n",
       "      <td>0</td>\n",
       "      <td>0</td>\n",
       "      <td>112053</td>\n",
       "      <td>30.00</td>\n",
       "      <td>B42</td>\n",
       "      <td>S</td>\n",
       "    </tr>\n",
       "    <tr>\n",
       "      <th>888</th>\n",
       "      <td>889</td>\n",
       "      <td>0</td>\n",
       "      <td>3</td>\n",
       "      <td>Johnston, Miss. Catherine Helen \"Carrie\"</td>\n",
       "      <td>female</td>\n",
       "      <td>NaN</td>\n",
       "      <td>1</td>\n",
       "      <td>2</td>\n",
       "      <td>W./C. 6607</td>\n",
       "      <td>23.45</td>\n",
       "      <td>NaN</td>\n",
       "      <td>S</td>\n",
       "    </tr>\n",
       "    <tr>\n",
       "      <th>889</th>\n",
       "      <td>890</td>\n",
       "      <td>1</td>\n",
       "      <td>1</td>\n",
       "      <td>Behr, Mr. Karl Howell</td>\n",
       "      <td>male</td>\n",
       "      <td>26.0</td>\n",
       "      <td>0</td>\n",
       "      <td>0</td>\n",
       "      <td>111369</td>\n",
       "      <td>30.00</td>\n",
       "      <td>C148</td>\n",
       "      <td>C</td>\n",
       "    </tr>\n",
       "    <tr>\n",
       "      <th>890</th>\n",
       "      <td>891</td>\n",
       "      <td>0</td>\n",
       "      <td>3</td>\n",
       "      <td>Dooley, Mr. Patrick</td>\n",
       "      <td>male</td>\n",
       "      <td>32.0</td>\n",
       "      <td>0</td>\n",
       "      <td>0</td>\n",
       "      <td>370376</td>\n",
       "      <td>7.75</td>\n",
       "      <td>NaN</td>\n",
       "      <td>Q</td>\n",
       "    </tr>\n",
       "  </tbody>\n",
       "</table>\n",
       "</div>"
      ],
      "text/plain": [
       "     PassengerId  Survived  Pclass                                      Name  \\\n",
       "886          887         0       2                     Montvila, Rev. Juozas   \n",
       "887          888         1       1              Graham, Miss. Margaret Edith   \n",
       "888          889         0       3  Johnston, Miss. Catherine Helen \"Carrie\"   \n",
       "889          890         1       1                     Behr, Mr. Karl Howell   \n",
       "890          891         0       3                       Dooley, Mr. Patrick   \n",
       "\n",
       "        Sex   Age  SibSp  Parch      Ticket   Fare Cabin Embarked  \n",
       "886    male  27.0      0      0      211536  13.00   NaN        S  \n",
       "887  female  19.0      0      0      112053  30.00   B42        S  \n",
       "888  female   NaN      1      2  W./C. 6607  23.45   NaN        S  \n",
       "889    male  26.0      0      0      111369  30.00  C148        C  \n",
       "890    male  32.0      0      0      370376   7.75   NaN        Q  "
      ]
     },
     "execution_count": 109,
     "metadata": {},
     "output_type": "execute_result"
    }
   ],
   "source": [
    "df.tail()"
   ]
  },
  {
   "cell_type": "markdown",
   "metadata": {},
   "source": [
    "상관관계 1차 분석"
   ]
  },
  {
   "cell_type": "code",
   "execution_count": 110,
   "metadata": {},
   "outputs": [
    {
     "data": {
      "image/png": "[encoded data removed]",
      "text/plain": [
       "<Figure size 360x360 with 2 Axes>"
      ]
     },
     "metadata": {
      "needs_background": "light"
     },
     "output_type": "display_data"
    }
   ],
   "source": [
    "corr = data.corr() # corr = df.corr()\n",
    "mask = np.tril(m = corr.to_numpy(), k = -1) #삼각행렬 만들기(대각성분 제외)\n",
    "lower_func = np.vectorize(lambda x: x==0 ) #numpy에 적용 가능한 함수 만들기\n",
    "mask = lower_func(mask) #mask == True이면, heatmap에 표시되지 않는다.\n",
    "\n",
    "fig, ax = plt.subplots(figsize=(5,5))\n",
    "ax = sns.heatmap(corr, vmin = -1, vmax = +1,center=0, robust=False, annot = True, mask = mask, linewidths=.5, cbar=True, square=True, xticklabels=True, yticklabels=True, ax = ax)\n",
    "bottom, top = ax.get_ylim()\n",
    "ax.set_ylim(bottom+.5, top-.5)\n",
    "plt.show()"
   ]
  },
  {
   "cell_type": "markdown",
   "metadata": {},
   "source": [
    "상관관계가 높은 순서로 분석한다."
   ]
  },
  {
   "cell_type": "code",
   "execution_count": 111,
   "metadata": {},
   "outputs": [
    {
     "data": {
      "image/png": "[encoded data removed]",
      "text/plain": [
       "<Figure size 432x288 with 1 Axes>"
      ]
     },
     "metadata": {
      "needs_background": "light"
     },
     "output_type": "display_data"
    }
   ],
   "source": [
    "#1. pclass - fare(categorical - continuous data)\n",
    "pclass_fare = df[['Pclass', 'Fare']].copy(deep=True)\n",
    "pclass_fare.plot.scatter(x='Pclass', y='Fare')\n",
    "plt.show()\n",
    "#1등석 손님이 가격을 더 많이 제시한다. ==> 역수 관계"
   ]
  },
  {
   "cell_type": "code",
   "execution_count": 112,
   "metadata": {},
   "outputs": [
    {
     "name": "stdout",
     "output_type": "stream",
     "text": [
      "     PassengerId  Survived  Pclass                                Name  \\\n",
      "258          259         1       1                    Ward, Miss. Anna   \n",
      "679          680         1       1  Cardeza, Mr. Thomas Drake Martinez   \n",
      "737          738         1       1              Lesurer, Mr. Gustave J   \n",
      "\n",
      "        Sex   Age  SibSp  Parch    Ticket      Fare        Cabin Embarked  \n",
      "258  female  35.0      0      0  PC 17755  512.3292          NaN        C  \n",
      "679    male  36.0      0      1  PC 17755  512.3292  B51 B53 B55        C  \n",
      "737    male  35.0      0      0  PC 17755  512.3292         B101        C  \n",
      "[679]\n"
     ]
    }
   ],
   "source": [
    "#outlier 확인(500) --> 3명이다.\n",
    "outlier = df[df['Fare']>=400]\n",
    "print(outlier)\n",
    "#동일한 ticket number로 보아, 단체일 것이다.\n",
    "#비슷한 연령 --> 친구사이?\n",
    "#승선 장소 동일\n",
    "func = np.vectorize(lambda x : 'Martinez' in x)\n",
    "mask = func(df['Name'])\n",
    "family = []\n",
    "for i,bol in enumerate(mask):\n",
    "    if bol == True:\n",
    "        family.append(i)\n",
    "print(family) #parch는 1인데, 동일한 성씨를 가진 탑승객이 없다. --> human error로 판단하자. -> 0으로 변경\n",
    "df.loc[679,'Parch'] = 0 # 값을 수정할 때, tuple로 원하는 위치를 보내야 하기 때문에 loc를 이용한다.\n",
    "\n",
    "#outlier 3개를 제외한 mean + 3sigma로 수정한다.\n",
    "fare_mean = df['Fare'].mean()\n",
    "fare_std = df['Fare'].std()\n",
    "df.loc[outlier.index,'Fare'] = fare_mean + fare_std*3"
   ]
  },
  {
   "cell_type": "code",
   "execution_count": 113,
   "metadata": {},
   "outputs": [
    {
     "data": {
      "image/png": "[encoded data removed]",
      "text/plain": [
       "<Figure size 432x288 with 1 Axes>"
      ]
     },
     "metadata": {
      "needs_background": "light"
     },
     "output_type": "display_data"
    },
    {
     "name": "stdout",
     "output_type": "stream",
     "text": [
      "<class 'pandas.core.frame.DataFrame'>\n",
      "Int64Index: 0 entries\n",
      "Data columns (total 12 columns):\n",
      "PassengerId    0 non-null int64\n",
      "Survived       0 non-null int64\n",
      "Pclass         0 non-null int64\n",
      "Name           0 non-null object\n",
      "Sex            0 non-null object\n",
      "Age            0 non-null float64\n",
      "SibSp          0 non-null int64\n",
      "Parch          0 non-null int64\n",
      "Ticket         0 non-null object\n",
      "Fare           0 non-null float64\n",
      "Cabin          0 non-null object\n",
      "Embarked       0 non-null object\n",
      "dtypes: float64(2), int64(5), object(5)\n",
      "memory usage: 0.0+ bytes\n",
      "<class 'pandas.core.frame.DataFrame'>\n",
      "Int64Index: 17 entries, 27 to 779\n",
      "Data columns (total 12 columns):\n",
      "PassengerId    17 non-null int64\n",
      "Survived       17 non-null int64\n",
      "Pclass         17 non-null int64\n",
      "Name           17 non-null object\n",
      "Sex            17 non-null object\n",
      "Age            15 non-null float64\n",
      "SibSp          17 non-null int64\n",
      "Parch          17 non-null int64\n",
      "Ticket         17 non-null object\n",
      "Fare           17 non-null float64\n",
      "Cabin          15 non-null object\n",
      "Embarked       17 non-null object\n",
      "dtypes: float64(2), int64(5), object(5)\n",
      "memory usage: 1.7+ KB\n"
     ]
    }
   ],
   "source": [
    "df[['Pclass', 'Fare']].plot.scatter(x = 'Pclass', y = 'Fare')\n",
    "plt.show()\n",
    "df[df['Fare'] < (fare_mean-3*fare_std)].info()\n",
    "df[df['Fare'] > (fare_mean+3*fare_std)].info()\n",
    "#Fare outlier 제거 완료"
   ]
  },
  {
   "cell_type": "code",
   "execution_count": 114,
   "metadata": {},
   "outputs": [
    {
     "data": {
      "image/png": "[encoded data removed]",
      "text/plain": [
       "<Figure size 432x288 with 1 Axes>"
      ]
     },
     "metadata": {
      "needs_background": "light"
     },
     "output_type": "display_data"
    },
    {
     "data": {
      "image/png": "[encoded data removed]",
      "text/plain": [
       "<Figure size 432x288 with 1 Axes>"
      ]
     },
     "metadata": {
      "needs_background": "light"
     },
     "output_type": "display_data"
    }
   ],
   "source": [
    "#fare/pclass의 새로운 클래스를 만들어 재정 상황에 따른 변수를 만든다.\n",
    "df['Finance'] = df['Fare']/df['Pclass']\n",
    "df[['Finance','Pclass']].plot.scatter(x='Finance',y='Pclass')\n",
    "plt.show()\n",
    "\n",
    "df[['Finance','Fare']].plot.scatter(x='Finance',y='Fare')\n",
    "plt.show()\n",
    "\n",
    "#Fare 대체 가능(관계식 형성)\n",
    "df.drop(['Fare'], axis=1,inplace=True)"
   ]
  },
  {
   "cell_type": "markdown",
   "metadata": {},
   "source": [
    "# Finance를 categorical data로 변환"
   ]
  },
  {
   "cell_type": "code",
   "execution_count": 115,
   "metadata": {},
   "outputs": [
    {
     "data": {
      "image/png": "[encoded data removed]",
      "text/plain": [
       "<Figure size 432x288 with 1 Axes>"
      ]
     },
     "metadata": {
      "needs_background": "light"
     },
     "output_type": "display_data"
    }
   ],
   "source": [
    "#50 단위로 끊는다.\n",
    "df['Finance_category'] = (df['Finance']/25).apply(int)\n",
    "df['Finance_category'].plot.hist()\n",
    "plt.show()\n",
    "df.drop(['Finance'], axis=1, inplace=True)"
   ]
  },
  {
   "cell_type": "markdown",
   "metadata": {},
   "source": [
    "Parch, Sibsp 분석"
   ]
  },
  {
   "cell_type": "code",
   "execution_count": 116,
   "metadata": {},
   "outputs": [
    {
     "name": "stdout",
     "output_type": "stream",
     "text": [
      "[1 0 3 4 2 5 8]\n",
      "[0 1 2 5 3 4 6]\n"
     ]
    }
   ],
   "source": [
    "parch_sibsp = df[['SibSp','Parch']]\n",
    "print(parch_sibsp['SibSp'].unique())\n",
    "print(parch_sibsp['Parch'].unique())\n",
    "# 둘 모두 가족 관계를 나타내므로, 하나로 합친다.\n",
    "df['Family'] = parch_sibsp.sum(axis=1)\n",
    "df.drop(['SibSp', 'Parch'], axis=1, inplace = True)"
   ]
  },
  {
   "cell_type": "code",
   "execution_count": 117,
   "metadata": {},
   "outputs": [],
   "source": [
    "df.Family.unique()\n",
    "#category 줄이기 --> 현재 0 ~ 10 존재. 0, [1,2], [3,4], [5,6], [7,10]\n",
    "\n",
    "for idx, n in enumerate(df.Family.values):\n",
    "    new_key = -1\n",
    "    \n",
    "    if n<1 :\n",
    "        new_key = 0\n",
    "    elif 1<=n<=2:\n",
    "        new_key = 1\n",
    "    elif 3<=n<=4:\n",
    "        new_key = 2\n",
    "    elif 5<=n<=6:\n",
    "        new_key = 3\n",
    "    else:\n",
    "        new_key=4\n",
    "    df.loc[idx, 'Family'] = new_key"
   ]
  },
  {
   "cell_type": "code",
   "execution_count": 118,
   "metadata": {},
   "outputs": [
    {
     "data": {
      "text/plain": [
       "count    891.000000\n",
       "mean       0.565657\n",
       "std        0.865642\n",
       "min        0.000000\n",
       "25%        0.000000\n",
       "50%        0.000000\n",
       "75%        1.000000\n",
       "max        4.000000\n",
       "Name: Family, dtype: float64"
      ]
     },
     "execution_count": 118,
     "metadata": {},
     "output_type": "execute_result"
    }
   ],
   "source": [
    "df.Family.describe()"
   ]
  },
  {
   "cell_type": "markdown",
   "metadata": {},
   "source": [
    "# Embarked 분석"
   ]
  },
  {
   "cell_type": "code",
   "execution_count": 119,
   "metadata": {},
   "outputs": [
    {
     "data": {
      "image/png": "[encoded data removed]",
      "text/plain": [
       "<Figure size 432x288 with 1 Axes>"
      ]
     },
     "metadata": {
      "needs_background": "light"
     },
     "output_type": "display_data"
    },
    {
     "data": {
      "image/png": "[encoded data removed]",
      "text/plain": [
       "<Figure size 432x288 with 1 Axes>"
      ]
     },
     "metadata": {
      "needs_background": "light"
     },
     "output_type": "display_data"
    },
    {
     "data": {
      "image/png": "[encoded data removed]",
      "text/plain": [
       "<Figure size 432x288 with 1 Axes>"
      ]
     },
     "metadata": {
      "needs_background": "light"
     },
     "output_type": "display_data"
    }
   ],
   "source": [
    "embarked = df[['Embarked','Survived']]\n",
    "\n",
    "#1. 정수로 변환\n",
    "sns.distplot(embarked[embarked['Embarked']=='C'].Survived)\n",
    "plt.show()\n",
    "sns.distplot(embarked[embarked['Embarked']=='S'].Survived)\n",
    "plt.show()\n",
    "sns.distplot(embarked[embarked['Embarked']=='Q'].Survived)\n",
    "plt.show()\n",
    "\n",
    "#S = 0, Q = 1, C = 2로 변환\n",
    "df = df.replace(['S','Q','C'],[0,1,2])"
   ]
  },
  {
   "cell_type": "markdown",
   "metadata": {},
   "source": [
    "# Sex 분석"
   ]
  },
  {
   "cell_type": "code",
   "execution_count": 120,
   "metadata": {},
   "outputs": [
    {
     "data": {
      "image/png": "[encoded data removed]",
      "text/plain": [
       "<Figure size 432x288 with 1 Axes>"
      ]
     },
     "metadata": {
      "needs_background": "light"
     },
     "output_type": "display_data"
    },
    {
     "data": {
      "image/png": "[encoded data removed]",
      "text/plain": [
       "<Figure size 432x288 with 1 Axes>"
      ]
     },
     "metadata": {
      "needs_background": "light"
     },
     "output_type": "display_data"
    }
   ],
   "source": [
    "sex = df[['Sex', 'Survived']]\n",
    "#정수로 변환\n",
    "sns.distplot(sex[sex['Sex']=='male'].Survived)\n",
    "plt.show()\n",
    "sns.distplot(sex[sex['Sex']=='female'].Survived)\n",
    "plt.show()\n",
    "#male = 0, female = 1로 변환\n",
    "df = df.replace(['male','female'],[0,1])"
   ]
  },
  {
   "cell_type": "markdown",
   "metadata": {},
   "source": [
    "# Age 분석"
   ]
  },
  {
   "cell_type": "code",
   "execution_count": 121,
   "metadata": {},
   "outputs": [
    {
     "name": "stdout",
     "output_type": "stream",
     "text": [
      "Age         177\n",
      "Survived      0\n",
      "dtype: int64\n",
      "630    80.0\n",
      "851    74.0\n",
      "Name: Age, dtype: float64\n",
      "Series([], Name: Age, dtype: float64)\n"
     ]
    }
   ],
   "source": [
    "age = df[['Age','Survived']]\n",
    "age.head()\n",
    "age.tail() # Nan 존재\n",
    "print(age.isnull().sum())\n",
    "\n",
    "missing_age = df[age.isnull()]\n",
    "\n",
    "\n",
    "#outlier 확인\n",
    "print(df.Age[df.Age>df.Age.mean()+3*df.Age.std()]) #2개 발견\n",
    "print(df.Age[df.Age<df.Age.mean()-3*df.Age.std()])\n",
    "\n",
    "outlier_idx = df.Age[df.Age>df.Age.mean()+3*df.Age.std()].index\n",
    "df.loc[outlier_idx, 'Age'] = df.Age.mean()+3*df.Age.std()"
   ]
  },
  {
   "cell_type": "code",
   "execution_count": 77,
   "metadata": {},
   "outputs": [
    {
     "name": "stdout",
     "output_type": "stream",
     "text": [
      "30.62617924528302 28.343689655172415\n",
      "0.3838383838383838 0.6161616161616161\n"
     ]
    }
   ],
   "source": [
    "#Survived 여부에 따라 가중 평균 값으로 채운다.\n",
    "dead, live = age['Age'].groupby(age['Survived']).mean().values #groupby는 통계적 분석과 동시에 사용해야 한다\n",
    "print(dead, live)\n",
    "survived = df['Survived']\n",
    "live_percentage = survived.sum()/survived.shape[0]\n",
    "dead_percentage = 1 - live_percentage\n",
    "print(live_percentage, dead_percentage) #약 4:6\n",
    "weighted_mean = dead*dead_percentage + live*live_percentage\n",
    "\n",
    "df.Age.fillna(value = weighted_mean, inplace = True)"
   ]
  },
  {
   "cell_type": "markdown",
   "metadata": {},
   "source": [
    "# Age를 Categorical data로 변환"
   ]
  },
  {
   "cell_type": "code",
   "execution_count": 20,
   "metadata": {},
   "outputs": [
    {
     "data": {
      "text/plain": [
       "0    1.0\n",
       "1    2.0\n",
       "2    1.0\n",
       "3    2.0\n",
       "4    2.0\n",
       "Name: Age, dtype: float64"
      ]
     },
     "execution_count": 20,
     "metadata": {},
     "output_type": "execute_result"
    },
    {
     "data": {
      "image/png": "[encoded data removed]",
      "text/plain": [
       "<Figure size 432x288 with 1 Axes>"
      ]
     },
     "metadata": {
      "needs_background": "light"
     },
     "output_type": "display_data"
    }
   ],
   "source": [
    "sns.distplot(df.Age)\n",
    "\n",
    "#0~19, 20~29, 30~39,40~49,50~으로 분할\n",
    "for idx in df.index:\n",
    "    new_value = -1\n",
    "    data = df.iloc[idx]\n",
    "    \n",
    "    if data.Age <= 19:\n",
    "        new_value = 0\n",
    "    elif 20 <= data.Age <= 29:\n",
    "        new_value = 1\n",
    "    elif 30 <= data.Age <= 39:\n",
    "        new_value = 2\n",
    "    elif 40 <= data.Age <= 49:\n",
    "        new_value = 3\n",
    "    else:\n",
    "        new_value = 4\n",
    "\n",
    "    df.loc[idx, 'Age'] = new_value\n",
    "df.Age.head()"
   ]
  },
  {
   "cell_type": "markdown",
   "metadata": {},
   "source": [
    "# Cabin 분석"
   ]
  },
  {
   "cell_type": "code",
   "execution_count": 21,
   "metadata": {},
   "outputs": [
    {
     "name": "stdout",
     "output_type": "stream",
     "text": [
      "missing : 0.7710437710437711\n"
     ]
    }
   ],
   "source": [
    "cabin = df['Cabin']\n",
    "cabin.head()\n",
    "cabin.tail()\n",
    "print('missing : {}'.format(cabin.isnull().sum()/cabin.shape[0]))\n",
    "\n",
    "#missing value가 너무 많기 때문에 제외한다.\n",
    "df.drop(['Cabin'], axis = 1, inplace = True)"
   ]
  },
  {
   "cell_type": "markdown",
   "metadata": {},
   "source": [
    "# 이용 불가능한 key 제거"
   ]
  },
  {
   "cell_type": "code",
   "execution_count": 22,
   "metadata": {},
   "outputs": [],
   "source": [
    "#ticket은 이용하기 힘들다\n",
    "df.drop(['Ticket'], axis=1, inplace = True)"
   ]
  },
  {
   "cell_type": "code",
   "execution_count": 23,
   "metadata": {},
   "outputs": [],
   "source": [
    "#Name 또한 이용하지 않는다.\n",
    "df.drop(['Name'], axis = 1, inplace = True)"
   ]
  },
  {
   "cell_type": "code",
   "execution_count": 24,
   "metadata": {},
   "outputs": [
    {
     "data": {
      "text/plain": [
       "Index(['PassengerId', 'Survived', 'Pclass', 'Sex', 'Age', 'Embarked',\n",
       "       'Finance', 'Family'],\n",
       "      dtype='object')"
      ]
     },
     "execution_count": 24,
     "metadata": {},
     "output_type": "execute_result"
    }
   ],
   "source": [
    "df.keys()"
   ]
  },
  {
   "cell_type": "markdown",
   "metadata": {},
   "source": [
    "# <출력 형식 : PassengerID : Survived>"
   ]
  },
  {
   "cell_type": "code",
   "execution_count": 25,
   "metadata": {},
   "outputs": [],
   "source": [
    "def split_id_data(df):\n",
    "    return df['PassengerId'], df.drop(['PassengerId'], axis=1)"
   ]
  },
  {
   "cell_type": "code",
   "execution_count": 26,
   "metadata": {},
   "outputs": [],
   "source": [
    "id, data_df = split_id_data(df)"
   ]
  },
  {
   "cell_type": "code",
   "execution_count": 32,
   "metadata": {},
   "outputs": [],
   "source": [
    "#save\n",
    "df.to_csv(r'titanic\\train_cleaning.csv', index=False)"
   ]
  },
  {
   "cell_type": "markdown",
   "metadata": {},
   "source": [
    "# Preprocessing 정리\n",
    "0. target과의 상관관계 확인(상관관계를 높이는 방향으로 전처리를 한다.)\n",
    "1. head, tail, nan 확인\n",
    "2. outlier 확인 및 정리(mean+-3*std 초과/미만을 outlier로)\n",
    "3. nan을 적당한 값으로 채우기(범주형 --> mode로, 연속형 --> 평균, 가중 평균 등으로)<outlier 처리 후, 다시 평균 등을 구해야 한다.>\n",
    "4. 비슷한 속성의 column들을 합치거나, 나누거나, 범주형을 연속형으로, 연속형을 범주형으로 만드는 등의 일을 하여 feature engineering을 한다.\n",
    "5. 이하 모든 feature에 대해 반복한다.\n",
    "6. option : object 속성의 feature는 int or float 속성으로 바꾼다\n",
    "7. Normalize : model fitting 단계에서 train mean, train std를 고정하여 진행한다."
   ]
  },
  {
   "cell_type": "code",
   "execution_count": 8,
   "metadata": {},
   "outputs": [],
   "source": [
    "def preprocessing(df, save_path = None):\n",
    "    \n",
    "    #0. copy df\n",
    "    df = df.copy(deep=True)\n",
    "    \n",
    "    #1. Pclass, Fare\n",
    "    \n",
    "    #1.1 Pclass --> outlier x\n",
    "    df.Pclass.fillna(value = df.Pclass.mode(), inplace = True) \n",
    "    \n",
    "    #1.2 Fare\n",
    "    fare_mean = df['Fare'].mean()\n",
    "    fare_std = df['Fare'].std()\n",
    "    \n",
    "    #1.2.1 outlier 탐색\n",
    "    outlier = df[df['Fare']>fare_mean+fare_std*3]\n",
    "    df.loc[outlier.index,'Fare'] = fare_mean + fare_std*3\n",
    "    \n",
    "    outlier = df[df['Fare']<fare_mean-fare_std*3]\n",
    "    df.loc[outlier.index,'Fare'] = fare_mean - fare_std*3\n",
    "    \n",
    "    #1.2.2 nan 채우기\n",
    "    fare_mean = df['Fare'].mean() # outlier를 처리한 후\n",
    "    df.Fare.fillna(value = fare_mean, inplace = True)\n",
    "    \n",
    "    #1.2.3 Finance 생성(새로운 feature)\n",
    "    df['Finance'] = df['Fare']/df['Pclass']\n",
    "    df.drop(['Fare'], axis=1,inplace=True)\n",
    "    \n",
    "    #1.2.4 Finance Category로 변경\n",
    "    df['Finance_category'] = (df['Finance']/25).apply(int)\n",
    "    df.drop(['Finance'], axis=1, inplace=True)\n",
    "    \n",
    "    #2. Family 생성(Parch, Sibsp)\n",
    "    df['Family'] = df[['Parch','SibSp']].sum(axis=1)\n",
    "    df.drop(['SibSp', 'Parch'], axis=1, inplace = True)\n",
    "    \n",
    "    #2.1 Family Category reduction\n",
    "    for idx, n in enumerate(df.Family.values):\n",
    "        new_key = -1\n",
    "        if n<1 :\n",
    "            new_key = 0\n",
    "        elif 1<=n<=2:\n",
    "            new_key = 1\n",
    "        elif 3<=n<=4:\n",
    "            new_key = 2\n",
    "        elif 5<=n<=6:\n",
    "            new_key = 3\n",
    "        else:\n",
    "            new_key=4\n",
    "        df.loc[idx, 'Family'] = new_key\n",
    "    \n",
    "    #3. Embarked\n",
    "    def mode(data):\n",
    "        preq = {key:0 for key in data.unique()}\n",
    "        for key in data:\n",
    "            preq[key]+=1\n",
    "        return max(preq.values())\n",
    "    \n",
    "    df.Embarked.fillna(value=mode(df.Embarked), inplace = True)\n",
    "    df = df.replace(['S','Q','C'],[0,1,2])\n",
    "    \n",
    "    #4. Sex\n",
    "    df = df.replace(['male','female'],[0,1])\n",
    "    \n",
    "    #5. Age\n",
    "    outlier = df.Age[df.Age>df.Age.mean()+3*df.Age.std()]\n",
    "    df.loc[outlier.index, 'Age'] = df.Age.mean()+3*df.Age.std()\n",
    "    \n",
    "    outlier = df.Age[df.Age<df.Age.mean()-3*df.Age.std()]\n",
    "    df.loc[outlier.index, 'Age'] = df.Age.mean()-3*df.Age.std()\n",
    "    \n",
    "    #train_data에서 확인\n",
    "    dead_mean = 30.62617924528302 \n",
    "    live_mean = 28.343689655172415\n",
    "    \n",
    "    weights = {'dead' : 0.6, 'live' : 0.4} # train 비율에 기반\n",
    "    \n",
    "    weighted_mean = dead_mean*weights['dead'] + live_mean*weights['live']\n",
    "    df.Age.fillna(value = weighted_mean, inplace = True)\n",
    "    \n",
    "    #5.1 Age를 Categorical data\n",
    "    for idx in df.index:\n",
    "        new_value = -1\n",
    "        data = df.iloc[idx]\n",
    "        if data.Age <= 19:\n",
    "            new_value = 0\n",
    "        elif 20 <= data.Age <= 29:\n",
    "            new_value = 1\n",
    "        elif 30 <= data.Age <= 39:\n",
    "            new_value = 2\n",
    "        elif 40 <= data.Age <= 49:\n",
    "            new_value = 3\n",
    "        else:\n",
    "            new_value = 4\n",
    "        df.loc[idx, 'Age'] = new_value\n",
    "        \n",
    "    #6. Cabin\n",
    "    df.drop(['Cabin'], axis = 1, inplace = True)\n",
    "    \n",
    "    #7. Ticket\n",
    "    df.drop(['Ticket'], axis=1, inplace = True)\n",
    "    \n",
    "    #8. Name\n",
    "    df.drop(['Name'], axis = 1, inplace = True)\n",
    "    \n",
    "    #9. save dataset\n",
    "    df.to_csv(save_path, index = False)\n",
    "    \n",
    "    #10. split id, data\n",
    "    def split_id_data(df):\n",
    "        return df['PassengerId'], df.drop(['PassengerId'], axis=1)\n",
    "    \n",
    "    return split_id_data(df)"
   ]
  },
  {
   "cell_type": "markdown",
   "metadata": {},
   "source": [
    "# Train, Test Preprocessing"
   ]
  },
  {
   "cell_type": "code",
   "execution_count": 9,
   "metadata": {},
   "outputs": [
    {
     "data": {
      "text/plain": [
       "(0       892\n",
       " 1       893\n",
       " 2       894\n",
       " 3       895\n",
       " 4       896\n",
       "        ... \n",
       " 413    1305\n",
       " 414    1306\n",
       " 415    1307\n",
       " 416    1308\n",
       " 417    1309\n",
       " Name: PassengerId, Length: 418, dtype: int64,\n",
       "      Pclass  Sex  Age  Embarked  Finance_category  Family\n",
       " 0         3    0  2.0         1                 0       0\n",
       " 1         3    1  3.0         0                 0       1\n",
       " 2         2    0  4.0         1                 0       0\n",
       " 3         3    0  1.0         0                 0       0\n",
       " 4         3    1  1.0         0                 0       1\n",
       " ..      ...  ...  ...       ...               ...     ...\n",
       " 413       3    0  4.0         0                 0       0\n",
       " 414       1    1  2.0         2                 4       0\n",
       " 415       3    0  2.0         0                 0       0\n",
       " 416       3    0  4.0         0                 0       0\n",
       " 417       3    0  4.0         2                 0       1\n",
       " \n",
       " [418 rows x 6 columns])"
      ]
     },
     "execution_count": 9,
     "metadata": {},
     "output_type": "execute_result"
    }
   ],
   "source": [
    "preprocessing(pd.read_csv(r'titanic\\train.csv'), save_path = r'titanic\\clean_data\\train_clearn.csv')\n",
    "preprocessing(pd.read_csv(r'titanic\\test.csv'), save_path = r'titanic\\clean_data\\test_clearn.csv')"
   ]
  },
  {
   "cell_type": "code",
   "execution_count": null,
   "metadata": {},
   "outputs": [],
   "source": []
  }
 ],
 "metadata": {
  "kernelspec": {
   "display_name": "Python 3",
   "language": "python",
   "name": "python3"
  },
  "language_info": {
   "codemirror_mode": {
    "name": "ipython",
    "version": 3
   },
   "file_extension": ".py",
   "mimetype": "text/x-python",
   "name": "python",
   "nbconvert_exporter": "python",
   "pygments_lexer": "ipython3",
   "version": "3.7.5"
  }
 },
 "nbformat": 4,
 "nbformat_minor": 4
}
