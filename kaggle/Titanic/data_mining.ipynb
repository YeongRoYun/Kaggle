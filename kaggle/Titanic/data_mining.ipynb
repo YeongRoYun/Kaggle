{
 "cells": [
  {
   "cell_type": "code",
   "execution_count": 1,
   "metadata": {},
   "outputs": [],
   "source": [
    "import numpy as np\n",
    "from scipy.stats import mode\n",
    "import pandas as pd\n",
    "from sklearn.tree import DecisionTreeClassifier"
   ]
  },
  {
   "cell_type": "markdown",
   "metadata": {},
   "source": [
    "# 데이터 불러오기"
   ]
  },
  {
   "cell_type": "code",
   "execution_count": 5,
   "metadata": {},
   "outputs": [],
   "source": [
    "df_train = pd.read_csv(r'data\\clean_data\\train_clearn.csv')\n",
    "df_test = pd.read_csv(r'data\\clean_data\\test_clearn.csv')"
   ]
  },
  {
   "cell_type": "markdown",
   "metadata": {},
   "source": [
    "1. 표준화 : 평균으로부터 떨어진 정도 (s = (d-m)/std)\n",
    "2. 정규화 : 0~1로 변환 (s = (d-min)/max-min)"
   ]
  },
  {
   "cell_type": "code",
   "execution_count": 198,
   "metadata": {
    "jupyter": {
     "source_hidden": true
    }
   },
   "outputs": [],
   "source": [
    "class knn:\n",
    "    __slots__ = ['n','normalize', 'data_max', 'data_min', 'data', 'target']\n",
    "    def __init__(self, n = 2, normalize = True):\n",
    "        self.n = n\n",
    "        self.normalize = normalize\n",
    "    \n",
    "    def fit(self, data, target):\n",
    "        if self.normalize:\n",
    "            self.data_max = data.max(axis=0)\n",
    "            self.data_min = data.min(axis=0)\n",
    "            \n",
    "            self.data = self.__normalize(data)\n",
    "        else:\n",
    "            self.data = data.copy()\n",
    "        \n",
    "        self.target = target.copy()\n",
    "            \n",
    "    \n",
    "    def predict(self, unknown):    \n",
    "        \n",
    "        def l2_distance(v1, v2):\n",
    "            dist_vector = np.abs(v1-v2)\n",
    "            return dist_vector.dot(dist_vector)\n",
    "        \n",
    "        def l1_distance(v1, v2):\n",
    "            dist_vector = np.abs(v1-v2)\n",
    "            return np.sum(dist_vector)\n",
    "        \n",
    "        if self.normalize:\n",
    "            unknown = self.__normalize(unknown)\n",
    "            \n",
    "        neighbors = []\n",
    "        for idx, data in enumerate(self.data) :\n",
    "            neighbors.append((l2_distance(data, unknown), self.target[idx]))\n",
    "        \n",
    "        neighbors.sort()    \n",
    "        neighbors = neighbors[:self.n]\n",
    "        \n",
    "        preq = [0,0]\n",
    "        for _, survived in neighbors:\n",
    "            preq[survived]+=1\n",
    "        \n",
    "        if preq[0] > preq[1]:\n",
    "            return 0 #Die\n",
    "        elif preq[0] < preq[1]:\n",
    "            return 1 # live\n",
    "        else:\n",
    "            return np.random.choice([0,1], p=[0.6, 0.4]) #train에서 획득한 비율\n",
    "        \n",
    "    \n",
    "    def score(self, unknowns, real):\n",
    "        predicts = []\n",
    "        for unknown in unknowns:\n",
    "            predicts.append(self.predict(unknown))\n",
    "        \n",
    "        def r2_score(y_true, y_pred):\n",
    "            SS_total = 0\n",
    "            SS_reg = 0\n",
    "    \n",
    "            for i in range(len(y_true)):\n",
    "                x = (y_true[i] - y_pred[i])**2\n",
    "                SS_reg = SS_reg+x\n",
    "    \n",
    "            y_true_mean = np.mean(y_true)\n",
    "            for i in range(len(y_true)):\n",
    "                x = (y_true[i]-y_true_mean)**2\n",
    "                SS_total = SS_total+x\n",
    "            return 1 - (SS_reg/SS_total)\n",
    "        \n",
    "        r2_score = r2_score(real, predicts)\n",
    "        return r2_score, predicts\n",
    "        \n",
    "    def __normalize(self, data):\n",
    "        data = data.copy()\n",
    "        return (data-self.data_min)/(self.data_max-self.data_min)"
   ]
  },
  {
   "cell_type": "code",
   "execution_count": 2,
   "metadata": {},
   "outputs": [],
   "source": [
    "def split_set(df, p=0.6):\n",
    "    df = df.copy(deep=True)\n",
    "    df = df.sample(frac = 1) # 반환하는 row 비율\n",
    "    \n",
    "    cut = int(df.shape[0]*p)\n",
    "    train = df.iloc[:cut]\n",
    "    test = df.iloc[cut:]\n",
    "    return train, test\n",
    "\n",
    "def split_id_data_target(df):\n",
    "    id = df.PassengerId\n",
    "    data = df.drop(['PassengerId', 'Survived'], axis = 1)\n",
    "    target = df.Survived\n",
    "    return id, data, target"
   ]
  },
  {
   "cell_type": "code",
   "execution_count": 286,
   "metadata": {},
   "outputs": [],
   "source": [
    "train, test = split_set(df_train,p=0.99)\n",
    "_, data, target = split_id_data_target(train)"
   ]
  },
  {
   "cell_type": "code",
   "execution_count": 287,
   "metadata": {},
   "outputs": [],
   "source": [
    "model = DecisionTreeClassifier(min_samples_split = 2, class_weight = 'balanced')"
   ]
  },
  {
   "cell_type": "code",
   "execution_count": 288,
   "metadata": {},
   "outputs": [
    {
     "data": {
      "text/plain": [
       "DecisionTreeClassifier(ccp_alpha=0.0, class_weight='balanced', criterion='gini',\n",
       "                       max_depth=None, max_features=None, max_leaf_nodes=None,\n",
       "                       min_impurity_decrease=0.0, min_impurity_split=None,\n",
       "                       min_samples_leaf=1, min_samples_split=2,\n",
       "                       min_weight_fraction_leaf=0.0, presort='deprecated',\n",
       "                       random_state=None, splitter='best')"
      ]
     },
     "execution_count": 288,
     "metadata": {},
     "output_type": "execute_result"
    }
   ],
   "source": [
    "\n",
    "model.fit(data.to_numpy(), target.to_numpy())\n"
   ]
  },
  {
   "cell_type": "code",
   "execution_count": 289,
   "metadata": {},
   "outputs": [],
   "source": [
    "_, data, target = split_id_data_target(test)"
   ]
  },
  {
   "cell_type": "code",
   "execution_count": 290,
   "metadata": {},
   "outputs": [
    {
     "data": {
      "text/plain": [
       "0.7777777777777778"
      ]
     },
     "execution_count": 290,
     "metadata": {},
     "output_type": "execute_result"
    }
   ],
   "source": [
    "model.score(data, target)"
   ]
  },
  {
   "cell_type": "markdown",
   "metadata": {},
   "source": [
    "# Test set에 적용\n",
    "1. sample 수가 적기 때문에, train set을 모두 이용한다."
   ]
  },
  {
   "cell_type": "code",
   "execution_count": 6,
   "metadata": {},
   "outputs": [
    {
     "data": {
      "text/plain": [
       "DecisionTreeClassifier(ccp_alpha=0.0, class_weight='balanced', criterion='gini',\n",
       "                       max_depth=None, max_features=None, max_leaf_nodes=None,\n",
       "                       min_impurity_decrease=0.0, min_impurity_split=None,\n",
       "                       min_samples_leaf=1, min_samples_split=2,\n",
       "                       min_weight_fraction_leaf=0.0, presort='deprecated',\n",
       "                       random_state=None, splitter='best')"
      ]
     },
     "execution_count": 6,
     "metadata": {},
     "output_type": "execute_result"
    }
   ],
   "source": [
    "_, train_data, train_target = split_id_data_target(df_train)\n",
    "test_id = df_test.PassengerId\n",
    "test_data = df_test.drop(['PassengerId'], axis=1)\n",
    "\n",
    "model = DecisionTreeClassifier(min_samples_split = 2, class_weight = 'balanced')\n",
    "model.fit(train_data, train_target)"
   ]
  },
  {
   "cell_type": "code",
   "execution_count": 7,
   "metadata": {},
   "outputs": [],
   "source": [
    "predicts = model.predict(test_data.to_numpy())"
   ]
  },
  {
   "cell_type": "code",
   "execution_count": 9,
   "metadata": {},
   "outputs": [],
   "source": [
    "result = pd.DataFrame({'PassengerId':test_id.values,\\\n",
    "                       'Survived':predicts})"
   ]
  },
  {
   "cell_type": "code",
   "execution_count": 13,
   "metadata": {},
   "outputs": [],
   "source": [
    "result.to_csv(r'data\\result.csv', index = False)"
   ]
  },
  {
   "cell_type": "code",
   "execution_count": 14,
   "metadata": {},
   "outputs": [
    {
     "data": {
      "text/plain": [
       "(418, 2)"
      ]
     },
     "execution_count": 14,
     "metadata": {},
     "output_type": "execute_result"
    }
   ],
   "source": [
    "result.shape"
   ]
  },
  {
   "cell_type": "code",
   "execution_count": 15,
   "metadata": {},
   "outputs": [
    {
     "data": {
      "text/html": [
       "<div>\n",
       "<style scoped>\n",
       "    .dataframe tbody tr th:only-of-type {\n",
       "        vertical-align: middle;\n",
       "    }\n",
       "\n",
       "    .dataframe tbody tr th {\n",
       "        vertical-align: top;\n",
       "    }\n",
       "\n",
       "    .dataframe thead th {\n",
       "        text-align: right;\n",
       "    }\n",
       "</style>\n",
       "<table border=\"1\" class=\"dataframe\">\n",
       "  <thead>\n",
       "    <tr style=\"text-align: right;\">\n",
       "      <th></th>\n",
       "      <th>PassengerId</th>\n",
       "      <th>Survived</th>\n",
       "    </tr>\n",
       "  </thead>\n",
       "  <tbody>\n",
       "    <tr>\n",
       "      <th>0</th>\n",
       "      <td>892</td>\n",
       "      <td>0</td>\n",
       "    </tr>\n",
       "    <tr>\n",
       "      <th>1</th>\n",
       "      <td>893</td>\n",
       "      <td>0</td>\n",
       "    </tr>\n",
       "    <tr>\n",
       "      <th>2</th>\n",
       "      <td>894</td>\n",
       "      <td>0</td>\n",
       "    </tr>\n",
       "    <tr>\n",
       "      <th>3</th>\n",
       "      <td>895</td>\n",
       "      <td>0</td>\n",
       "    </tr>\n",
       "    <tr>\n",
       "      <th>4</th>\n",
       "      <td>896</td>\n",
       "      <td>1</td>\n",
       "    </tr>\n",
       "  </tbody>\n",
       "</table>\n",
       "</div>"
      ],
      "text/plain": [
       "   PassengerId  Survived\n",
       "0          892         0\n",
       "1          893         0\n",
       "2          894         0\n",
       "3          895         0\n",
       "4          896         1"
      ]
     },
     "execution_count": 15,
     "metadata": {},
     "output_type": "execute_result"
    }
   ],
   "source": [
    "result.head()"
   ]
  },
  {
   "cell_type": "code",
   "execution_count": null,
   "metadata": {},
   "outputs": [],
   "source": []
  }
 ],
 "metadata": {
  "kernelspec": {
   "display_name": "Python 3",
   "language": "python",
   "name": "python3"
  },
  "language_info": {
   "codemirror_mode": {
    "name": "ipython",
    "version": 3
   },
   "file_extension": ".py",
   "mimetype": "text/x-python",
   "name": "python",
   "nbconvert_exporter": "python",
   "pygments_lexer": "ipython3",
   "version": "3.7.5"
  }
 },
 "nbformat": 4,
 "nbformat_minor": 4
}
