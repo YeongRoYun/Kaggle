{
 "cells": [
  {
   "cell_type": "code",
   "execution_count": 1,
   "metadata": {},
   "outputs": [],
   "source": [
    "import numpy as np\n",
    "from scipy.stats import mode\n",
    "import pandas as pd\n",
    "from sklearn.tree import DecisionTreeClassifier\n",
    "from sklearn.ensemble import RandomForestClassifier\n",
    "from sklearn.model_selection import cross_val_score"
   ]
  },
  {
   "cell_type": "markdown",
   "metadata": {},
   "source": [
    "# 데이터 불러오기"
   ]
  },
  {
   "cell_type": "code",
   "execution_count": 2,
   "metadata": {},
   "outputs": [],
   "source": [
    "df_train = pd.read_csv(r'data\\clean_data\\train_clearn.csv')\n",
    "df_test = pd.read_csv(r'data\\clean_data\\test_clearn.csv')"
   ]
  },
  {
   "cell_type": "markdown",
   "metadata": {},
   "source": [
    "1. 표준화 : 평균으로부터 떨어진 정도 (s = (d-m)/std)\n",
    "2. 정규화 : 0~1로 변환 (s = (d-min)/max-min)"
   ]
  },
  {
   "cell_type": "code",
   "execution_count": 3,
   "metadata": {
    "jupyter": {
     "source_hidden": true
    }
   },
   "outputs": [],
   "source": [
    "class knn:\n",
    "    __slots__ = ['n','normalize', 'data_max', 'data_min', 'data', 'target']\n",
    "    def __init__(self, n = 2, normalize = True):\n",
    "        self.n = n\n",
    "        self.normalize = normalize\n",
    "    \n",
    "    def fit(self, data, target):\n",
    "        if self.normalize:\n",
    "            self.data_max = data.max(axis=0)\n",
    "            self.data_min = data.min(axis=0)\n",
    "            \n",
    "            self.data = self.__normalize(data)\n",
    "        else:\n",
    "            self.data = data.copy()\n",
    "        \n",
    "        self.target = target.copy()\n",
    "            \n",
    "    \n",
    "    def predict(self, unknown):    \n",
    "        \n",
    "        def l2_distance(v1, v2):\n",
    "            dist_vector = np.abs(v1-v2)\n",
    "            return dist_vector.dot(dist_vector)\n",
    "        \n",
    "        def l1_distance(v1, v2):\n",
    "            dist_vector = np.abs(v1-v2)\n",
    "            return np.sum(dist_vector)\n",
    "        \n",
    "        if self.normalize:\n",
    "            unknown = self.__normalize(unknown)\n",
    "            \n",
    "        neighbors = []\n",
    "        for idx, data in enumerate(self.data) :\n",
    "            neighbors.append((l2_distance(data, unknown), self.target[idx]))\n",
    "        \n",
    "        neighbors.sort()    \n",
    "        neighbors = neighbors[:self.n]\n",
    "        \n",
    "        preq = [0,0]\n",
    "        for _, survived in neighbors:\n",
    "            preq[survived]+=1\n",
    "        \n",
    "        if preq[0] > preq[1]:\n",
    "            return 0 #Die\n",
    "        elif preq[0] < preq[1]:\n",
    "            return 1 # live\n",
    "        else:\n",
    "            return np.random.choice([0,1], p=[0.6, 0.4]) #train에서 획득한 비율\n",
    "        \n",
    "    \n",
    "    def score(self, unknowns, real):\n",
    "        predicts = []\n",
    "        for unknown in unknowns:\n",
    "            predicts.append(self.predict(unknown))\n",
    "        \n",
    "        def r2_score(y_true, y_pred):\n",
    "            SS_total = 0\n",
    "            SS_reg = 0\n",
    "    \n",
    "            for i in range(len(y_true)):\n",
    "                x = (y_true[i] - y_pred[i])**2\n",
    "                SS_reg = SS_reg+x\n",
    "    \n",
    "            y_true_mean = np.mean(y_true)\n",
    "            for i in range(len(y_true)):\n",
    "                x = (y_true[i]-y_true_mean)**2\n",
    "                SS_total = SS_total+x\n",
    "            return 1 - (SS_reg/SS_total)\n",
    "        \n",
    "        r2_score = r2_score(real, predicts)\n",
    "        return r2_score, predicts\n",
    "        \n",
    "    def __normalize(self, data):\n",
    "        data = data.copy()\n",
    "        return (data-self.data_min)/(self.data_max-self.data_min)"
   ]
  },
  {
   "cell_type": "code",
   "execution_count": 4,
   "metadata": {},
   "outputs": [],
   "source": [
    "def split_set(df, p=0.6):\n",
    "    df = df.copy(deep=True)\n",
    "    df = df.sample(frac = 1) # 반환하는 row 비율\n",
    "    \n",
    "    cut = int(df.shape[0]*p)\n",
    "    train = df.iloc[:cut]\n",
    "    test = df.iloc[cut:]\n",
    "    return train, test\n",
    "\n",
    "def split_id_data_target(df):\n",
    "    id = df.PassengerId\n",
    "    data = df.drop(['PassengerId', 'Survived'], axis = 1)\n",
    "    target = df.Survived\n",
    "    return id, data, target"
   ]
  },
  {
   "cell_type": "markdown",
   "metadata": {},
   "source": [
    "# X-Validation\n",
    "1. best model들을 선정한 뒤, 이를 모두 이용하여 경향성(6:4)를 보고 최종 결과를 판단한다."
   ]
  },
  {
   "cell_type": "code",
   "execution_count": 80,
   "metadata": {},
   "outputs": [],
   "source": [
    "def x_validation(model, data, target, k=-1):\n",
    "    \n",
    "    #suffle\n",
    "    join = np.hstack((data, target.reshape(data.shape[0],1)))\n",
    "    np.random.shuffle(join)\n",
    "    target = join[:, join.shape[1]-1]\n",
    "    data = join[:, 0:join.shape[1]-1]\n",
    "    \n",
    "    if k == -1:\n",
    "        volumn = 1\n",
    "        k=data.shape[0]\n",
    "    else:\n",
    "        volumn = int(data.shape[0]/k)\n",
    "    cuts = [volumn*i for i in range(k)]\n",
    "    cuts.append(data.shape[0])\n",
    "    predict_data = [data[cuts[i]:cuts[i+1]] for i in range(k)]\n",
    "    predict_target = [target[cuts[i]:cuts[i+1]] for i in range(k)]\n",
    "    \n",
    "    train_data = [np.delete(data, list(range(cuts[i], cuts[i+1])), axis=0) for i in range(k)]\n",
    "    train_target = [np.delete(target, list(range(cuts[i], cuts[i+1])), axis=0) for i in range(k)]\n",
    "    \n",
    "    fitted_models = [model.fit(train_data[i], train_target[i]) for i in range(k)]\n",
    "    \n",
    "    \n",
    "    scores = np.round([fitted_models[i].score(predict_data[i], predict_target[i]) for i in range(k)], decimals = 3)\n",
    "    print(\"scores : {}\".format(scores))\n",
    "    \n",
    "    best_score = np.array(scores).max()\n",
    "    best_index = np.array(scores).argmax()\n",
    "    indexes = [idx for idx, score in enumerate(scores) if best_score - 0.025 <= score <= best_score + 0.025]\n",
    "    \n",
    "    print(\"best score : {} and index = {}\".format(best_score, best_index))\n",
    "    print(\"Selected Index : {}\".format(indexes))\n",
    "    best_models = [fitted_models[i] for i in indexes]\n",
    "    return best_models"
   ]
  },
  {
   "cell_type": "code",
   "execution_count": 86,
   "metadata": {},
   "outputs": [],
   "source": [
    "#model = DecisionTreeClassifier(min_samples_split = 2, class_weight = 'balanced')\n",
    "model = RandomForestClassifier(n_estimators=100, n_jobs=-1, class_weight = 'balanced')"
   ]
  },
  {
   "cell_type": "code",
   "execution_count": 87,
   "metadata": {},
   "outputs": [
    {
     "name": "stdout",
     "output_type": "stream",
     "text": [
      "scores : [0.843 0.876 0.921 0.843 0.843 0.865 0.865 0.899 0.809 0.822]\n",
      "best score : 0.921 and index = 2\n",
      "Selected Index : [2, 7]\n"
     ]
    }
   ],
   "source": [
    "#Find best model params\n",
    "best_models = x_validation(model = model, data = df_train.drop(['Survived', 'PassengerId'], axis=1).to_numpy(), target = df_train.Survived.to_numpy(), k=10)"
   ]
  },
  {
   "cell_type": "markdown",
   "metadata": {},
   "source": [
    "# Test set에 적용\n",
    "1. best_models를 이용한다"
   ]
  },
  {
   "cell_type": "code",
   "execution_count": 88,
   "metadata": {},
   "outputs": [],
   "source": [
    "id = df_test.PassengerId.to_numpy()\n",
    "data = df_test.drop(['PassengerId'], axis=1).to_numpy()"
   ]
  },
  {
   "cell_type": "code",
   "execution_count": 89,
   "metadata": {},
   "outputs": [],
   "source": [
    "def Predict_with_models(models,label, data, p = None):\n",
    "    '''\n",
    "        p는 가중 평균 or weighted choice를 위한 parms\n",
    "    '''\n",
    "    \n",
    "    def get_predict(p, predicts):\n",
    "        preq = {key:0 for key in predicts}\n",
    "        for k in predicts:\n",
    "            preq[k]+=1\n",
    "        most = list(np.array(preq.values()).max())[0]\n",
    "    \n",
    "        most_preq = []\n",
    "        for k in predicts:\n",
    "            if preq[k] == most and k not in most_preq:\n",
    "                most_preq.append(k)\n",
    "                \n",
    "        if len(most_preq) == 1:\n",
    "            return most_preq[0]\n",
    "        else:\n",
    "            prob = [p[key] for key in most_preq]\n",
    "            result = np.random.choice(most_preq, p=prob)\n",
    "            return result\n",
    "    \n",
    "    \n",
    "    if p is None:\n",
    "        p = {key:1/len(models) for key in label}\n",
    "    \n",
    "    multi_predicts = np.array([model.predict(data) for model in models]).T # 행 일치\n",
    "\n",
    "    result = []\n",
    "    for predict in multi_predicts:\n",
    "        result.append(get_predict(p, predict))\n",
    "    \n",
    "    return result\n",
    "        \n",
    "            "
   ]
  },
  {
   "cell_type": "code",
   "execution_count": 94,
   "metadata": {},
   "outputs": [],
   "source": [
    "predicts = Predict_with_models(best_models, [0,1], data, p = {0:0.6, 1:0.4})"
   ]
  },
  {
   "cell_type": "code",
   "execution_count": 95,
   "metadata": {},
   "outputs": [],
   "source": [
    "result = pd.DataFrame({'PassengerId':id,\\\n",
    "                       'Survived':predicts}, dtype = int)"
   ]
  },
  {
   "cell_type": "code",
   "execution_count": 96,
   "metadata": {},
   "outputs": [],
   "source": [
    "result.to_csv(r'data\\result.csv', index = False)"
   ]
  },
  {
   "cell_type": "code",
   "execution_count": 97,
   "metadata": {},
   "outputs": [
    {
     "data": {
      "text/html": [
       "<div>\n",
       "<style scoped>\n",
       "    .dataframe tbody tr th:only-of-type {\n",
       "        vertical-align: middle;\n",
       "    }\n",
       "\n",
       "    .dataframe tbody tr th {\n",
       "        vertical-align: top;\n",
       "    }\n",
       "\n",
       "    .dataframe thead th {\n",
       "        text-align: right;\n",
       "    }\n",
       "</style>\n",
       "<table border=\"1\" class=\"dataframe\">\n",
       "  <thead>\n",
       "    <tr style=\"text-align: right;\">\n",
       "      <th></th>\n",
       "      <th>PassengerId</th>\n",
       "      <th>Survived</th>\n",
       "    </tr>\n",
       "  </thead>\n",
       "  <tbody>\n",
       "    <tr>\n",
       "      <th>count</th>\n",
       "      <td>418.000000</td>\n",
       "      <td>418.000000</td>\n",
       "    </tr>\n",
       "    <tr>\n",
       "      <th>mean</th>\n",
       "      <td>1100.500000</td>\n",
       "      <td>0.387560</td>\n",
       "    </tr>\n",
       "    <tr>\n",
       "      <th>std</th>\n",
       "      <td>120.810458</td>\n",
       "      <td>0.487777</td>\n",
       "    </tr>\n",
       "    <tr>\n",
       "      <th>min</th>\n",
       "      <td>892.000000</td>\n",
       "      <td>0.000000</td>\n",
       "    </tr>\n",
       "    <tr>\n",
       "      <th>25%</th>\n",
       "      <td>996.250000</td>\n",
       "      <td>0.000000</td>\n",
       "    </tr>\n",
       "    <tr>\n",
       "      <th>50%</th>\n",
       "      <td>1100.500000</td>\n",
       "      <td>0.000000</td>\n",
       "    </tr>\n",
       "    <tr>\n",
       "      <th>75%</th>\n",
       "      <td>1204.750000</td>\n",
       "      <td>1.000000</td>\n",
       "    </tr>\n",
       "    <tr>\n",
       "      <th>max</th>\n",
       "      <td>1309.000000</td>\n",
       "      <td>1.000000</td>\n",
       "    </tr>\n",
       "  </tbody>\n",
       "</table>\n",
       "</div>"
      ],
      "text/plain": [
       "       PassengerId    Survived\n",
       "count   418.000000  418.000000\n",
       "mean   1100.500000    0.387560\n",
       "std     120.810458    0.487777\n",
       "min     892.000000    0.000000\n",
       "25%     996.250000    0.000000\n",
       "50%    1100.500000    0.000000\n",
       "75%    1204.750000    1.000000\n",
       "max    1309.000000    1.000000"
      ]
     },
     "execution_count": 97,
     "metadata": {},
     "output_type": "execute_result"
    }
   ],
   "source": [
    "result.describe()"
   ]
  },
  {
   "cell_type": "code",
   "execution_count": 85,
   "metadata": {},
   "outputs": [
    {
     "data": {
      "text/html": [
       "<div>\n",
       "<style scoped>\n",
       "    .dataframe tbody tr th:only-of-type {\n",
       "        vertical-align: middle;\n",
       "    }\n",
       "\n",
       "    .dataframe tbody tr th {\n",
       "        vertical-align: top;\n",
       "    }\n",
       "\n",
       "    .dataframe thead th {\n",
       "        text-align: right;\n",
       "    }\n",
       "</style>\n",
       "<table border=\"1\" class=\"dataframe\">\n",
       "  <thead>\n",
       "    <tr style=\"text-align: right;\">\n",
       "      <th></th>\n",
       "      <th>PassengerId</th>\n",
       "      <th>Survived</th>\n",
       "    </tr>\n",
       "  </thead>\n",
       "  <tbody>\n",
       "    <tr>\n",
       "      <th>0</th>\n",
       "      <td>892</td>\n",
       "      <td>0</td>\n",
       "    </tr>\n",
       "    <tr>\n",
       "      <th>1</th>\n",
       "      <td>893</td>\n",
       "      <td>0</td>\n",
       "    </tr>\n",
       "    <tr>\n",
       "      <th>2</th>\n",
       "      <td>894</td>\n",
       "      <td>0</td>\n",
       "    </tr>\n",
       "    <tr>\n",
       "      <th>3</th>\n",
       "      <td>895</td>\n",
       "      <td>0</td>\n",
       "    </tr>\n",
       "    <tr>\n",
       "      <th>4</th>\n",
       "      <td>896</td>\n",
       "      <td>1</td>\n",
       "    </tr>\n",
       "  </tbody>\n",
       "</table>\n",
       "</div>"
      ],
      "text/plain": [
       "   PassengerId  Survived\n",
       "0          892         0\n",
       "1          893         0\n",
       "2          894         0\n",
       "3          895         0\n",
       "4          896         1"
      ]
     },
     "execution_count": 85,
     "metadata": {},
     "output_type": "execute_result"
    }
   ],
   "source": [
    "result.head()"
   ]
  },
  {
   "cell_type": "code",
   "execution_count": null,
   "metadata": {},
   "outputs": [],
   "source": []
  }
 ],
 "metadata": {
  "kernelspec": {
   "display_name": "Python 3",
   "language": "python",
   "name": "python3"
  },
  "language_info": {
   "codemirror_mode": {
    "name": "ipython",
    "version": 3
   },
   "file_extension": ".py",
   "mimetype": "text/x-python",
   "name": "python",
   "nbconvert_exporter": "python",
   "pygments_lexer": "ipython3",
   "version": "3.7.5"
  }
 },
 "nbformat": 4,
 "nbformat_minor": 4
}
